{
 "cells": [
  {
   "cell_type": "code",
   "execution_count": 8,
   "metadata": {},
   "outputs": [],
   "source": [
    "from collections import namedtuple\n",
    "import numpy as np\n",
    "import torch as tr\n",
    "\n",
    "TrainConfig = namedtuple(\n",
    "    'TrainConfig',\n",
    "    'n_step_tboard_log '\n",
    "    'n_step_console_log '\n",
    "    'n_step_validation '\n",
    "    'n_step_save_params '\n",
    "    'n_step_visualize'\n",
    ")"
   ]
  },
  {
   "cell_type": "code",
   "execution_count": 2,
   "metadata": {},
   "outputs": [],
   "source": [
    "class Config:\n",
    "    use_gpu = tr.cuda.is_available()\n",
    "\n",
    "    dtype = tr.float32\n",
    "\n",
    "    base_port = 8001\n",
    "\n",
    "    default_train_config = TrainConfig(\n",
    "        n_step_tboard_log=50,\n",
    "        n_step_console_log=-1,\n",
    "        n_step_validation=100,\n",
    "        n_step_save_params=1000,\n",
    "        n_step_visualize=500\n",
    "    )\n",
    "    \n",
    "x = Config()\n",
    "x.default_train_config.n_step_console_log"
   ]
  },
  {
   "cell_type": "code",
   "execution_count": 28,
   "metadata": {},
   "outputs": [],
   "source": [
    "def tensor_output(use_gpu=Config.use_gpu):\n",
    "    def outer(f):\n",
    "        def inner(*args,**kwargs):\n",
    "            ret = f(*args,**kwargs)\n",
    "            return tr.tensor(ret)\n",
    "        return inner\n",
    "    return outer"
   ]
  },
  {
   "cell_type": "code",
   "execution_count": 29,
   "metadata": {},
   "outputs": [],
   "source": [
    "@tensor_output(use_gpu=Config.use_gpu)\n",
    "def numpy(val=10):\n",
    "    return np.random.rand(val)"
   ]
  },
  {
   "cell_type": "code",
   "execution_count": 32,
   "metadata": {},
   "outputs": [
    {
     "data": {
      "text/plain": [
       "tensor([0.5654], dtype=torch.float64)"
      ]
     },
     "execution_count": 32,
     "metadata": {},
     "output_type": "execute_result"
    }
   ],
   "source": [
    "numpy(1)"
   ]
  },
  {
   "cell_type": "code",
   "execution_count": 33,
   "metadata": {},
   "outputs": [],
   "source": [
    "x = tr.tensor([1])"
   ]
  },
  {
   "cell_type": "code",
   "execution_count": 36,
   "metadata": {},
   "outputs": [
    {
     "data": {
      "text/plain": [
       "array([7, 4, 5, 2, 9, 1, 3, 6, 0, 8])"
      ]
     },
     "execution_count": 36,
     "metadata": {},
     "output_type": "execute_result"
    }
   ],
   "source": [
    "np.random.permutation(10)"
   ]
  },
  {
   "cell_type": "code",
   "execution_count": null,
   "metadata": {},
   "outputs": [],
   "source": []
  }
 ],
 "metadata": {
  "kernelspec": {
   "display_name": "Python 3",
   "language": "python",
   "name": "python3"
  },
  "language_info": {
   "codemirror_mode": {
    "name": "ipython",
    "version": 3
   },
   "file_extension": ".py",
   "mimetype": "text/x-python",
   "name": "python",
   "nbconvert_exporter": "python",
   "pygments_lexer": "ipython3",
   "version": "3.6.9"
  }
 },
 "nbformat": 4,
 "nbformat_minor": 2
}
